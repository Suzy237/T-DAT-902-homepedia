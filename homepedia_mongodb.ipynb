{
 "cells": [
  {
   "cell_type": "markdown",
   "metadata": {},
   "source": [
    "### Ce jupiter traitera toutes les insertions dans mongodb"
   ]
  },
  {
   "cell_type": "markdown",
   "metadata": {},
   "source": [
    "#### Intallation et chargement des bibliothèques"
   ]
  },
  {
   "cell_type": "code",
   "execution_count": null,
   "metadata": {},
   "outputs": [],
   "source": [
    "python -m pip install pymongo "
   ]
  },
  {
   "cell_type": "code",
   "execution_count": 2,
   "metadata": {},
   "outputs": [],
   "source": [
    "import pandas as pd\n",
    "from pymongo import MongoClient"
   ]
  },
  {
   "cell_type": "markdown",
   "metadata": {},
   "source": [
    "#### Chargement des fichiers"
   ]
  },
  {
   "cell_type": "code",
   "execution_count": 6,
   "metadata": {},
   "outputs": [
    {
     "name": "stdout",
     "output_type": "stream",
     "text": [
      "        Date mutation Nature mutation Valeur fonciere No voie Code voie  \\\n",
      "0          03/01/2022           Vente        55000,00    13.0      2280   \n",
      "1          03/01/2022           Vente       143000,00     NaN      B010   \n",
      "2          03/01/2022           Vente       143000,00     NaN      B010   \n",
      "3          03/01/2022           Vente       143000,00    98.0      0055   \n",
      "4          04/01/2022           Vente          300,00     NaN      B031   \n",
      "...               ...             ...             ...     ...       ...   \n",
      "3803880    30/12/2022           Vente      3500000,00    19.0      4879   \n",
      "3803881    19/12/2022           Vente       525000,00     3.0      3842   \n",
      "3803882    19/12/2022           Vente       525000,00     3.0      3842   \n",
      "3803883    30/12/2022           Vente        15500,00    69.0      0679   \n",
      "3803884    21/11/2022           Vente        30000,00    48.0      8358   \n",
      "\n",
      "        Code postal            Commune Code departement Code commune Section  \\\n",
      "0            1000.0    BOURG-EN-BRESSE                1           53      AM   \n",
      "1            1480.0          SAVIGNEUX                1          398      ZE   \n",
      "2            1480.0          SAVIGNEUX                1          398      ZE   \n",
      "3            1480.0          SAVIGNEUX                1          398      ZE   \n",
      "4            1480.0  MESSIMY SUR SAONE                1          243       A   \n",
      "...             ...                ...              ...          ...     ...   \n",
      "3803880     75014.0           PARIS 14               75          114      AS   \n",
      "3803881     75015.0           PARIS 15               75          115      EJ   \n",
      "3803882     75015.0           PARIS 15               75          115      EJ   \n",
      "3803883     75013.0           PARIS 13               75          113      DM   \n",
      "3803884     75011.0           PARIS 11               75          111      CD   \n",
      "\n",
      "        No plan Nombre de lots                                Type local  \\\n",
      "0           102              1                               Appartement   \n",
      "1           184              0                                       NaN   \n",
      "2           185              0                                       NaN   \n",
      "3           187              1                               Appartement   \n",
      "4           643              0                                       NaN   \n",
      "...         ...            ...                                       ...   \n",
      "3803880      41              1  Local industriel. commercial ou assimilé   \n",
      "3803881      51              2                                Dépendance   \n",
      "3803882      51              2                               Appartement   \n",
      "3803883      28              1                                Dépendance   \n",
      "3803884      88              1                                Dépendance   \n",
      "\n",
      "        Surface reelle bati Nombre pieces principales Surface terrain  \\\n",
      "0                      24.0                       1.0             NaN   \n",
      "1                       NaN                       NaN            84.0   \n",
      "2                       NaN                       NaN            88.0   \n",
      "3                     140.0                       3.0             NaN   \n",
      "4                       NaN                       NaN           510.0   \n",
      "...                     ...                       ...             ...   \n",
      "3803880               327.0                       0.0             NaN   \n",
      "3803881                 0.0                       0.0             NaN   \n",
      "3803882                40.0                       3.0             NaN   \n",
      "3803883                 0.0                       0.0             NaN   \n",
      "3803884                 0.0                       0.0             NaN   \n",
      "\n",
      "                             Type_voie  \n",
      "0            RUE RUE RUE DE LA LIBERTE  \n",
      "1                         CHAMP COCHET  \n",
      "2                         CHAMP COCHET  \n",
      "3             RTE RTE RTE DE LA DOMBES  \n",
      "4                          AUX PIERRES  \n",
      "...                                ...  \n",
      "3803880        RUE RUE RUE JEAN DOLENT  \n",
      "3803881  RUE RUE RUE FREDERIC MAGISSON  \n",
      "3803882  RUE RUE RUE FREDERIC MAGISSON  \n",
      "3803883           RUE RUE RUE BARRAULT  \n",
      "3803884     RUE RUE RUE DE LA ROQUETTE  \n",
      "\n",
      "[3803885 rows x 17 columns]\n"
     ]
    }
   ],
   "source": [
    "immo_brut = pd.read_csv('./data/france_total_real_estate_sales_2022.csv', dtype=str)\n",
    "print(immo_brut)"
   ]
  }
 ],
 "metadata": {
  "kernelspec": {
   "display_name": "Python 3",
   "language": "python",
   "name": "python3"
  },
  "language_info": {
   "codemirror_mode": {
    "name": "ipython",
    "version": 3
   },
   "file_extension": ".py",
   "mimetype": "text/x-python",
   "name": "python",
   "nbconvert_exporter": "python",
   "pygments_lexer": "ipython3",
   "version": "3.11.7"
  }
 },
 "nbformat": 4,
 "nbformat_minor": 2
}
