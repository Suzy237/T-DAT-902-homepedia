{
 "cells": [
  {
   "cell_type": "markdown",
   "id": "9df58087",
   "metadata": {},
   "source": [
    "## Ce jupiter traitera l'insertion dans postgresql"
   ]
  },
  {
   "cell_type": "markdown",
   "id": "6b0d9985-cfc7-44d0-aab2-9d5d17271ff2",
   "metadata": {},
   "source": [
    "### Installation et mise à jour des bibliothèques"
   ]
  },
  {
   "cell_type": "code",
   "execution_count": null,
   "id": "fe7b6e42-c98a-4242-a552-07a0c991b134",
   "metadata": {},
   "outputs": [],
   "source": [
    "pip install --upgrade pandas"
   ]
  },
  {
   "cell_type": "code",
   "execution_count": null,
   "id": "d6b2b1c3-9a11-4343-ae35-c7bed1a6a0b5",
   "metadata": {},
   "outputs": [],
   "source": [
    "pip install psycopg2"
   ]
  },
  {
   "cell_type": "code",
   "execution_count": null,
   "id": "77959797-1b0d-4c7c-8ff1-132ba952222b",
   "metadata": {},
   "outputs": [],
   "source": [
    "import pandas as pd"
   ]
  },
  {
   "cell_type": "code",
   "execution_count": null,
   "id": "4ce4f0d9-1249-4b9e-9cfd-f3ab686a2486",
   "metadata": {},
   "outputs": [],
   "source": [
    "#immo = pd.read_csv('C:/Users/suzyg/OneDrive/Documents/Ecoles/Epitech/T-DAT-902/Données/france_total_real_estate_sales_2022.csv')\n",
    "\n",
    "#codes_departements_outre_mer = [971, 972, 973, 974, 976]\n",
    "#donnees_metropolitaines = immo[immo['Code departement'].isin(codes_departements_outre_mer)]\n",
    "#print(donnees_metropolitaines)"
   ]
  },
  {
   "cell_type": "markdown",
   "id": "92da5875-b55b-4a09-a97a-7d4809dde4e5",
   "metadata": {},
   "source": [
    "### Chargement et nettoyage des données"
   ]
  },
  {
   "cell_type": "markdown",
   "id": "5422fbbe-2ba1-421a-9d4d-2373a4fbb96f",
   "metadata": {},
   "source": [
    "#### Chargement"
   ]
  },
  {
   "cell_type": "code",
   "execution_count": null,
   "id": "5977e887-4cb1-4d54-b867-abb993575fa8",
   "metadata": {},
   "outputs": [],
   "source": [
    "#Chargement des fichiers\n",
    "brutes_communes = pd.read_csv('./data/communes-departement-region.csv', dtype=str)\n",
    "brutes_ecoles = pd.read_csv('./data/fr-en-annuaire-education.csv', sep=';', dtype=str)"
   ]
  },
  {
   "cell_type": "code",
   "execution_count": null,
   "id": "5153dd6e-9354-4049-97f3-288a839fecc1",
   "metadata": {},
   "outputs": [],
   "source": [
    "#Affichage des données\n",
    "print(\"************************************** COMMUNES **************************************\")\n",
    "\n",
    "brutes_communes['code_postal_commune'] = brutes_communes['code_commune_INSEE'] +'-'+ brutes_communes['code_postal']\n",
    "code_commune_unique=brutes_communes[['code_postal_commune', 'code_commune_INSEE']].drop_duplicates()\n",
    "print(brutes_communes)\n",
    "\n",
    "print(\"************************************** ECOLES **************************************\")\n",
    "\n",
    "brutes_ecoles['code_postal_commune'] = brutes_ecoles['code_postal'] +'-'+ brutes_ecoles['code_commune']\n",
    "brutes_ecoles = pd.merge(brutes_ecoles, code_commune_unique, how='left')\n",
    "brutes_ecoles = brutes_ecoles.dropna(subset='code_commune_INSEE')\n",
    "print(brutes_ecoles)\n",
    "\n",
    "colonnes_communes = ['code_commune_INSEE', 'nom_commune', 'code_postal', 'code_postal_commune', 'latitude', 'longitude', 'code_departement', 'nom_departement', 'code_region', 'nom_region']\n",
    "colonnes_ecoles = ['identifiant_de_l_etablissement', 'nom_etablissement', 'type_etablissement', 'statut_public_prive', 'adresse_1','code_postal_commune']"
   ]
  },
  {
   "cell_type": "markdown",
   "id": "e0ab9ee6-112c-400e-aeec-fe9fd3b671d1",
   "metadata": {},
   "source": [
    "#### Nettoyage"
   ]
  },
  {
   "cell_type": "code",
   "execution_count": null,
   "id": "d95b285e-8e38-4865-84cd-55282974d937",
   "metadata": {},
   "outputs": [],
   "source": [
    "#fonction pour nettoyer\n",
    "def nettoyage (fichier, colonnes):\n",
    "\n",
    "    #On ne sélectionne que les données pertinentes\n",
    "    pertinentes = fichier.loc[:, colonnes]\n",
    "    \n",
    "    #Suppression des lignes contenant dont les id contiennent des valeurs NaN et on remplace le reste par des espaces\n",
    "    sans_nan = pertinentes.dropna(subset=colonnes[0])\n",
    "    sans_nan[colonnes]=sans_nan[colonnes].fillna('')\n",
    "    \n",
    "    #Supprimes les doublons\n",
    "    df= sans_nan.drop_duplicates()\n",
    "\n",
    "    #conversion en tuples\n",
    "    #tuples = list(sans_doublons.itertuples(index=False, name=None))\n",
    "    #tpls = [tuple(x) for x in df.to_numpy()]\n",
    "    \n",
    "    # dataframe columns with Comma-separated\n",
    "    #cols = ','.join(list(df.columns))\n",
    "    return df\n",
    "    \n",
    "print(\"************************************** COMMUNES **************************************\")\n",
    "communes = nettoyage(brutes_communes, colonnes_communes)\n",
    "print(communes)\n",
    "#print(communes[:5])\n",
    "\n",
    "print(\"************************************** ECOLES **************************************\")\n",
    "ecoles = nettoyage (brutes_ecoles, colonnes_ecoles)\n",
    "print(ecoles)\n",
    "#print(ecoles[:5])\n",
    "\n",
    "#********************************************************************************************\n",
    "print(ecoles)"
   ]
  },
  {
   "cell_type": "markdown",
   "id": "e58203ba-7b2d-47e4-b04b-970988530ab0",
   "metadata": {},
   "source": [
    "### Connexion au serveur de base de données"
   ]
  },
  {
   "cell_type": "code",
   "execution_count": null,
   "id": "3ab6cca9-8177-4e69-b68e-5e4403975e59",
   "metadata": {},
   "outputs": [],
   "source": [
    "import sys\n",
    "import psycopg2\n",
    "from psycopg2 import OperationalError, errorcodes, errors\n",
    "import psycopg2.extras as extras\n",
    "\n",
    "params= {\n",
    "    'host':'localhost',\n",
    "    'user':'postgres',\n",
    "    'password':'pass',\n",
    "    'port':'5433'\n",
    "}\n",
    "\n",
    "\n",
    "#Gestion des erreurs\n",
    "def erreur_psycopg2(err):\n",
    "    #on récupère les détails de l'exception\n",
    "    err_type, err_obj, traceback= sys.exc_info()\n",
    "\n",
    "    #Récupération de la ligne qui a causé l'erreur\n",
    "    line_n=traceback.tb_lineno\n",
    "\n",
    "    #Affichage de l'erreur\n",
    "    print(\"\\npsycopg2 ERROR : \", err, \"sur la ligne: \", line_n)\n",
    "    print(\"psycopg2 traceback: \", traceback,\"--type: \", err_type)\n",
    "    \n",
    "    # psycopg2 extensions.Diagnostics object attribute\n",
    "    print (\"\\nextensions.Diagnostics:\", err.diag)\n",
    "    \n",
    "    # print the pgcode and pgerror exceptions\n",
    "    print (\"pgerror:\", err.pgerror)\n",
    "    print (\"pgcode:\", err.pgcode, \"\\n\")\n",
    "\n",
    "#Connexion au serveur de base de données\n",
    "def connect(params):\n",
    "    conn = None\n",
    "    try:\n",
    "        print('Connexion à PostgreSQL...........')\n",
    "        conn = psycopg2.connect(**params)\n",
    "        print(\"Connexion réussie..................\")\n",
    "    except OperationalError as err:\n",
    "        erreur_psycopg2(err)\n",
    "        # On réinitialise la connexion en cas d'erreur\n",
    "        conn = None\n",
    "    \n",
    "    return conn"
   ]
  },
  {
   "cell_type": "markdown",
   "id": "9b7ef51d-76c4-4e90-9e83-e1d45eb53922",
   "metadata": {},
   "source": [
    "### Création de la base de données"
   ]
  },
  {
   "cell_type": "code",
   "execution_count": null,
   "id": "7c1255e8-acd4-454e-b1df-480cdd08c0ef",
   "metadata": {},
   "outputs": [],
   "source": [
    "conn= connect(params)\n",
    "conn.autocommit = True\n",
    "\n",
    "if conn!= None:\n",
    "    try:\n",
    "        cursor = conn.cursor()\n",
    "        #Suppression de la base de données si elle existe déjà\n",
    "        cursor.execute(\"DROP DATABASE IF EXISTS homepedia;\")\n",
    "        \n",
    "        #Création de la base de données\n",
    "        cursor.execute(\"CREATE DATABASE homepedia\")\n",
    "        print(\"Base de données créée avec succès !!!\")\n",
    "        cursor.close()\n",
    "        conn.close()\n",
    "        \n",
    "    except OperationalError as err:\n",
    "        erreur_psycopg2(err)\n",
    "        conn = None"
   ]
  },
  {
   "cell_type": "markdown",
   "id": "1c8bb2f7-29d6-4084-b8f5-7f1ead330024",
   "metadata": {},
   "source": [
    "### Création des tables"
   ]
  },
  {
   "cell_type": "code",
   "execution_count": null,
   "id": "958080ff-6105-4af6-b8b6-a290a3bb0a08",
   "metadata": {},
   "outputs": [],
   "source": [
    "params2= {\n",
    "    'host':'localhost',\n",
    "    'database':'homepedia',\n",
    "    'user':'postgres',\n",
    "    'password':'pass',\n",
    "    'port':'5433'\n",
    "}\n",
    "TABLES = {}\n",
    "TABLES['communes'] = (\n",
    "    \"CREATE TABLE communes (\"\n",
    "    \"  num_row SERIAL PRIMARY KEY,\"\n",
    "    \"  code_commune_INSEE text NOT NULL,\"\n",
    "    \"  nom_commune text NOT NULL,\"\n",
    "    \"  code_postal text NOT NULL,\"\n",
    "    \"  code_postal_commune text UNIQUE,\"\n",
    "    \"  latitude text,\"\n",
    "    \"  longitude text,\"\n",
    "    \"  code_departement text,\"\n",
    "    \"  nom_departement text NOT NULL,\"\n",
    "    \"  code_region text,\"\n",
    "    \"  nom_region text NOT NULL\"\n",
    "    \")\")\n",
    "\n",
    "#TABLES['code_postal_commune_index']=( \"CREATE UNIQUE INDEX code_commune_index ON communes(code_postal_commune)\")\n",
    "\n",
    "TABLES['ecoles'] = (\n",
    "    \"CREATE TABLE ecoles (\"\n",
    "    \"num_row SERIAL PRIMARY KEY,\"\n",
    "    \"identifiant_de_l_etablissement text NOT NULL,\"\n",
    "    \"nom_etablissement text NOT NULL,\"\n",
    "    \"type_etablissement text NOT NULL,\"\n",
    "    \"statut_public_prive text NOT NULL,\"\n",
    "    \"adresse_1 text,\"\n",
    "    \"code_postal_commune text REFERENCES communes (code_postal_commune) ON DELETE CASCADE\"\n",
    "    \")\")\n",
    "\n",
    "conn= connect(params2)\n",
    "conn.autocommit = True\n",
    "\n",
    "for table_name in TABLES:\n",
    "    table_description = TABLES[table_name]\n",
    "    try:\n",
    "        cursor = conn.cursor()\n",
    "        \n",
    "        cursor.execute(\"DROP TABLE IF EXISTS {} CASCADE\".format(table_name))\n",
    "        cursor.execute(table_description)\n",
    "        print(\"Creation de la table {} avec succès: \".format(table_name))\n",
    "        \n",
    "        cursor.close()\n",
    "    except OperationalError as err:\n",
    "        erreur_psycopg2(err)\n",
    "        conn = None\n",
    "#conn.close()"
   ]
  },
  {
   "cell_type": "markdown",
   "id": "dbe9d002-aa3f-4e59-ba2f-ff157a23ebba",
   "metadata": {},
   "source": [
    "### Insertion des données dans la base de données"
   ]
  },
  {
   "cell_type": "code",
   "execution_count": null,
   "id": "021b7831-cf6d-4152-9344-754b5252e6df",
   "metadata": {},
   "outputs": [],
   "source": [
    "#Création d'une fonction pour l'insertion des données du dataframe\n",
    "def execute_many(conn, df, table):\n",
    "    # Creation d'une liste de tuplets à partir du dataframe\n",
    "    tpls = [tuple(x) for x in df.to_numpy()]\n",
    "    \n",
    "    # dataframe columns with Comma-separated\n",
    "    cols = ','.join(list(df.columns))\n",
    "    \n",
    "    if table == 'communes':\n",
    "       sql = \"INSERT INTO %s(%s) VALUES(%%s,%%s,%%s,%%s,%%s,%%s,%%s,%%s,%%s,%%s)\" % (table, cols)\n",
    "    elif table =='ecoles':\n",
    "       sql = \"INSERT INTO %s(%s) VALUES(%%s,%%s,%%s,%%s,%%s,%%s)\" %(table, cols)\n",
    "        \n",
    "    cursor = conn.cursor()\n",
    "    try:\n",
    "        cursor.executemany(sql, tpls)\n",
    "        conn.commit()\n",
    "        print(\"Données insérées avec succès...\")\n",
    "    except (Exception, psycopg2.DatabaseError) as err:\n",
    "        erreur_psycopg2(err)\n",
    "        cursor.close()\n",
    "\n",
    "execute_many(conn, communes, 'communes')\n",
    "execute_many(conn, ecoles, 'ecoles')\n",
    "conn.close()"
   ]
  }
 ],
 "metadata": {
  "kernelspec": {
   "display_name": "Python 3 (ipykernel)",
   "language": "python",
   "name": "python3"
  },
  "language_info": {
   "codemirror_mode": {
    "name": "ipython",
    "version": 3
   },
   "file_extension": ".py",
   "mimetype": "text/x-python",
   "name": "python",
   "nbconvert_exporter": "python",
   "pygments_lexer": "ipython3",
   "version": "3.11.7"
  }
 },
 "nbformat": 4,
 "nbformat_minor": 5
}
